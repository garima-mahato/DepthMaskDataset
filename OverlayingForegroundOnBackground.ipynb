{
  "nbformat": 4,
  "nbformat_minor": 0,
  "metadata": {
    "colab": {
      "name": "OverlayingForegroundOnBackground.ipynb",
      "provenance": [],
      "collapsed_sections": [],
      "authorship_tag": "ABX9TyMtLhrLMfheM349vjxcLD6N"
    },
    "kernelspec": {
      "name": "python3",
      "display_name": "Python 3"
    }
  },
  "cells": [
    {
      "cell_type": "markdown",
      "metadata": {
        "id": "rY9kW5xJsn9P",
        "colab_type": "text"
      },
      "source": [
        "# Overlaying Foreground on Background Image and Generating Mask\n",
        "----"
      ]
    },
    {
      "cell_type": "code",
      "metadata": {
        "id": "w6W75MQgsrYt",
        "colab_type": "code",
        "outputId": "d8f131c4-5e5a-4851-b927-723b898a7b77",
        "colab": {
          "base_uri": "https://localhost:8080/",
          "height": 122
        }
      },
      "source": [
        "from google.colab import drive\n",
        "drive.mount('/content/gdrive')"
      ],
      "execution_count": 0,
      "outputs": [
        {
          "output_type": "stream",
          "text": [
            "Go to this URL in a browser: https://accounts.google.com/o/oauth2/auth?client_id=947318989803-6bn6qk8qdgf4n4g3pfee6491hc0brc4i.apps.googleusercontent.com&redirect_uri=urn%3aietf%3awg%3aoauth%3a2.0%3aoob&response_type=code&scope=email%20https%3a%2f%2fwww.googleapis.com%2fauth%2fdocs.test%20https%3a%2f%2fwww.googleapis.com%2fauth%2fdrive%20https%3a%2f%2fwww.googleapis.com%2fauth%2fdrive.photos.readonly%20https%3a%2f%2fwww.googleapis.com%2fauth%2fpeopleapi.readonly\n",
            "\n",
            "Enter your authorization code:\n",
            "··········\n",
            "Mounted at /content/gdrive\n"
          ],
          "name": "stdout"
        }
      ]
    },
    {
      "cell_type": "code",
      "metadata": {
        "id": "neVbccjzr-az",
        "colab_type": "code",
        "colab": {}
      },
      "source": [
        "import math, random, cv2, glob, os\n",
        "import numpy as np\n",
        "from PIL import Image\n",
        "import matplotlib.pyplot as plt\n",
        "import zipfile\n",
        "from tqdm import tqdm"
      ],
      "execution_count": 0,
      "outputs": []
    },
    {
      "cell_type": "code",
      "metadata": {
        "id": "flIPvvhftudj",
        "colab_type": "code",
        "colab": {}
      },
      "source": [
        "os.chdir('gdrive/My Drive/EVA4/DepthMaskDataset')"
      ],
      "execution_count": 0,
      "outputs": []
    },
    {
      "cell_type": "code",
      "metadata": {
        "id": "F6dS_48Dt2cA",
        "colab_type": "code",
        "colab": {}
      },
      "source": [
        "bg_path = \"./data/bg\"\n",
        "fg_path = \"./data/fg\"\n",
        "fg_mask_path = \"./data/fg_mask\""
      ],
      "execution_count": 0,
      "outputs": []
    },
    {
      "cell_type": "code",
      "metadata": {
        "id": "usHQ71vaswa2",
        "colab_type": "code",
        "colab": {}
      },
      "source": [
        "def overlay_fg_over_bg(bg_path, fg_path, fg_mask_path, zip_file_name='custom_depth_mask.zip'):\n",
        "  index = 1\n",
        "  total_iter = 20\n",
        "\n",
        "  zf = zipfile.ZipFile(zip_file_name, mode='w', compression=zipfile.ZIP_STORED)\n",
        "  label_info = open('data_label.txt', 'w+')\n",
        "\n",
        "  for bg_index, bg_filename in enumerate(tqdm(os.listdir(bg_path))):\n",
        "      bg_name = bg_filename.split('.jpg')[0]\n",
        "\n",
        "      fg_bg_label_info = open(f'fg_bg_label.txt', 'w+')\n",
        "                  \n",
        "      for fg_index, fg_filename in enumerate(os.listdir(fg_path)):\n",
        "          fg_name = fg_filename.split('.png')[0]\n",
        "\n",
        "          for itr in range(0, total_iter):\n",
        "              fg = Image.open(os.path.join(fg_path, fg_filename))\n",
        "              fg_mask = Image.open(os.path.join(fg_mask_path, os.listdir(fg_mask_path)[fg_index])).convert('L')\n",
        "              \n",
        "              # Flip image and mask\n",
        "              fg_flipped = fg.transpose(Image.FLIP_LEFT_RIGHT)\n",
        "              fg_mask_flipped = fg_mask.transpose(Image.FLIP_LEFT_RIGHT)\n",
        "              \n",
        "              for (img, mask) in [(fg, fg_mask), (fg_flipped, fg_mask_flipped)]:\n",
        "                  \n",
        "                  fg_bg = Image.open(os.path.join(bg_path, bg_filename))\n",
        "                  \n",
        "                  x_pos_range = (0, fg_bg.size[0])\n",
        "                  y_pos_range = (0, fg_bg.size[1])\n",
        "                  \n",
        "                  # Randomly generate (x,y) position and scaling ratio\n",
        "                  x_pos = random.randrange(*x_pos_range)\n",
        "                  y_pos = random.randrange(*y_pos_range)\n",
        "                  # scale_ratio = max(0.6, round(random.random(), 2))\n",
        "\n",
        "                  # # Resize foreground and its mask \n",
        "                  # new_size = (math.ceil(img.size[0] * scale_ratio), math.ceil(img.size[1] * scale_ratio))\n",
        "                  # img_resized = img.resize(new_size)\n",
        "                  # mask_resized = mask.resize(new_size)\n",
        "\n",
        "                  fg_bg.paste(img, (x_pos, y_pos), img) #(img_resized, (x_pos, y_pos), img_resized)\n",
        "\n",
        "                  fg_bg_mask = Image.new('L', fg_bg.size)\n",
        "                  ##fg_mask = mask_resized.convert('L')\n",
        "                  fg_bg_mask.paste(mask, (x_pos, y_pos), mask) #(mask_resized, (x_pos, y_pos), mask_resized)\n",
        "\n",
        "                  # Save the background and the mask as temp .jpg files\n",
        "                  fg_bg.save('fg_bg.jpg', optimize=True, quality=50)\n",
        "                  fg_bg_mask.save('fg_bg_mask.jpg', optimize=True, quality=50)\n",
        "                  \n",
        "                  zf.write('fg_bg.jpg', f'data/fg_bg/{bg_name}/{bg_name}_{fg_name}_{index:06d}.jpg')\n",
        "                  zf.write('fg_bg_mask.jpg', f'data/fg_bg_mask/{bg_name}/{bg_name}_{fg_name}_{index:06d}.jpg')\n",
        "                  \n",
        "                  label_info.write(f'data/fg_bg/{bg_name}/{bg_name}_{fg_name}_{index:06d}.jpg\\tdata/fg_bg_mask/{bg_name}/{bg_name}_{fg_name}_{index:06d}.jpg\\t{x_pos}\\t{y_pos}\\t{img.size[0]}\\t{img.size[1]}\\n')\n",
        "                  fg_bg_label_info.write(f'data/fg_bg/{bg_name}/{bg_name}_{fg_name}_{index:06d}.jpg\\tdata/fg_bg_mask/{bg_name}/{bg_name}_{fg_name}_{index:06d}.jpg\\t{x_pos}\\t{y_pos}\\t{img.size[0]}\\t{img.size[1]}\\n')\n",
        "\n",
        "                  index += 1\n",
        "                  \n",
        "                  # Close open files\n",
        "                  fg_bg.close()\n",
        "              \n",
        "              fg.close()\n",
        "              fg_mask.close()\n",
        "    \n",
        "      fg_bg_label_info.close()\n",
        "      \n",
        "      # write the labels file to zip\n",
        "      zf.write('fg_bg_label.txt', f'data/labels/{bg_name}_label_info.txt')\n",
        "      \n",
        "  label_info.close()\n",
        "\n",
        "  # write the labels file to zip\n",
        "  zf.write('data_label.txt')\n",
        "\n",
        "  # Close the zip, else it gets corrupted\n",
        "  zf.close()    "
      ],
      "execution_count": 0,
      "outputs": []
    },
    {
      "cell_type": "code",
      "metadata": {
        "id": "HkEUkONwtZAd",
        "colab_type": "code",
        "outputId": "ea1abf4f-6333-44ae-cee5-be07c89c889c",
        "colab": {
          "base_uri": "https://localhost:8080/",
          "height": 34
        }
      },
      "source": [
        "overlay_fg_over_bg(bg_path, fg_path, fg_mask_path, 'depth_mask_dataset.zip')"
      ],
      "execution_count": 0,
      "outputs": [
        {
          "output_type": "stream",
          "text": [
            "100%|██████████| 100/100 [1:49:42<00:00, 65.83s/it]\n"
          ],
          "name": "stderr"
        }
      ]
    }
  ]
}