{
  "nbformat": 4,
  "nbformat_minor": 0,
  "metadata": {
    "colab": {
      "name": "DepthMaskDatasetStatistics.ipynb",
      "provenance": [],
      "collapsed_sections": [],
      "machine_shape": "hm",
      "authorship_tag": "ABX9TyOP54ZOv4pkc1uz01+NlxZi"
    },
    "kernelspec": {
      "name": "python3",
      "display_name": "Python 3"
    },
    "accelerator": "GPU"
  },
  "cells": [
    {
      "cell_type": "markdown",
      "metadata": {
        "id": "l_FxzKk3c0Sx",
        "colab_type": "text"
      },
      "source": [
        "# Statistics of Data\n",
        "---"
      ]
    },
    {
      "cell_type": "code",
      "metadata": {
        "id": "L1vSQxjun5zl",
        "colab_type": "code",
        "outputId": "9a9fe009-9e61-42de-ea6b-bb684c094f1d",
        "colab": {
          "base_uri": "https://localhost:8080/",
          "height": 34
        }
      },
      "source": [
        "import torch\n",
        "from IPython.display import Image, clear_output \n",
        "print('PyTorch %s %s' % (torch.__version__, torch.cuda.get_device_properties(0) if torch.cuda.is_available() else 'CPU'))"
      ],
      "execution_count": 1,
      "outputs": [
        {
          "output_type": "stream",
          "text": [
            "PyTorch 1.5.0+cu101 _CudaDeviceProperties(name='Tesla K80', major=3, minor=7, total_memory=11441MB, multi_processor_count=13)\n"
          ],
          "name": "stdout"
        }
      ]
    },
    {
      "cell_type": "code",
      "metadata": {
        "id": "nM06IDdorVau",
        "colab_type": "code",
        "outputId": "f5abb4cf-3f85-4773-a9ba-6d05bec59308",
        "colab": {
          "base_uri": "https://localhost:8080/",
          "height": 122
        }
      },
      "source": [
        "from google.colab import drive\n",
        "drive.mount('/content/gdrive')"
      ],
      "execution_count": 2,
      "outputs": [
        {
          "output_type": "stream",
          "text": [
            "Go to this URL in a browser: https://accounts.google.com/o/oauth2/auth?client_id=947318989803-6bn6qk8qdgf4n4g3pfee6491hc0brc4i.apps.googleusercontent.com&redirect_uri=urn%3aietf%3awg%3aoauth%3a2.0%3aoob&response_type=code&scope=email%20https%3a%2f%2fwww.googleapis.com%2fauth%2fdocs.test%20https%3a%2f%2fwww.googleapis.com%2fauth%2fdrive%20https%3a%2f%2fwww.googleapis.com%2fauth%2fdrive.photos.readonly%20https%3a%2f%2fwww.googleapis.com%2fauth%2fpeopleapi.readonly\n",
            "\n",
            "Enter your authorization code:\n",
            "··········\n",
            "Mounted at /content/gdrive\n"
          ],
          "name": "stdout"
        }
      ]
    },
    {
      "cell_type": "code",
      "metadata": {
        "id": "QbYA8D4wvwGB",
        "colab_type": "code",
        "colab": {}
      },
      "source": [
        "import math\n",
        "import numpy as np\n",
        "import random\n",
        "import os\n",
        "import cv2"
      ],
      "execution_count": 0,
      "outputs": []
    },
    {
      "cell_type": "code",
      "metadata": {
        "id": "_uedbA07uhpm",
        "colab_type": "code",
        "colab": {}
      },
      "source": [
        "def find_normalization_values(data, num_of_inp_channels):\n",
        "  means = ()\n",
        "  stdevs = ()\n",
        "  for i in range(num_of_inp_channels):\n",
        "      if num_of_inp_channels == 1:\n",
        "        pixels = data.ravel()\n",
        "      elif num_of_inp_channels == 2:\n",
        "        pixels = data[:,:,i].ravel()\n",
        "      else:\n",
        "        pixels = data[:,:,:,i].ravel()\n",
        "      means = means +(round(np.mean(pixels)),)\n",
        "      stdevs = stdevs +(np.std(pixels),)\n",
        "\n",
        "  return means, stdevs\n",
        "\n",
        "\n",
        "def convert_size(size_bytes):\n",
        "   if size_bytes == 0:\n",
        "       return \"0B\"\n",
        "   size_name = (\"B\", \"KB\", \"MB\", \"GB\", \"TB\", \"PB\", \"EB\", \"ZB\", \"YB\")\n",
        "   i = int(math.floor(math.log(size_bytes, 1024)))\n",
        "   p = math.pow(1024, i)\n",
        "   s = round(size_bytes / p, 2)\n",
        "   return \"%s %s\" % (s, size_name[i])\n",
        "\n",
        "def find_size_count_images(filepath):\n",
        "  img_size = 0\n",
        "  for _, filename in enumerate(os.listdir(filepath)):\n",
        "      src = filepath + filename\n",
        "      img_size += os.stat(src).st_size\n",
        "  \n",
        "  return img_size, len(os.listdir(filepath))"
      ],
      "execution_count": 0,
      "outputs": []
    },
    {
      "cell_type": "markdown",
      "metadata": {
        "id": "ZfUefyCapVbm",
        "colab_type": "text"
      },
      "source": [
        "## 1) BG\n",
        "---"
      ]
    },
    {
      "cell_type": "code",
      "metadata": {
        "id": "2xaDWTRJpYUU",
        "colab_type": "code",
        "colab": {
          "base_uri": "https://localhost:8080/",
          "height": 51
        },
        "outputId": "04a05ef3-4318-4c0f-fc54-800adbe9b147"
      },
      "source": [
        "bg_path = './gdrive/My Drive/EVA4/DepthMaskDataset/data/bg/'\n",
        "\n",
        "bg_size, bg_cnt = find_size_count_images(bg_path)\n",
        "print(f\"Size of BG data = {convert_size(bg_size)}\")\n",
        "print(f\"Total number of images = {bg_cnt}\")"
      ],
      "execution_count": 133,
      "outputs": [
        {
          "output_type": "stream",
          "text": [
            "Size of BG data = 790.72 KB\n",
            "Total number of images = 100\n"
          ],
          "name": "stdout"
        }
      ]
    },
    {
      "cell_type": "markdown",
      "metadata": {
        "id": "B3SGcDkIi6jb",
        "colab_type": "text"
      },
      "source": [
        "## 2) FG\n",
        "---"
      ]
    },
    {
      "cell_type": "code",
      "metadata": {
        "id": "Sf26BDK7i8z5",
        "colab_type": "code",
        "colab": {
          "base_uri": "https://localhost:8080/",
          "height": 51
        },
        "outputId": "c6881d88-2780-4d15-a571-dfc1e6e63ddc"
      },
      "source": [
        "fg_path = './gdrive/My Drive/EVA4/DepthMaskDataset/data/fg/'\n",
        "\n",
        "fg_size, fg_cnt = find_size_count_images(fg_path)\n",
        "print(f\"Size of FG data = {convert_size(fg_size)}\")\n",
        "print(f\"Total number of images = {fg_cnt}\")"
      ],
      "execution_count": 134,
      "outputs": [
        {
          "output_type": "stream",
          "text": [
            "Size of FG data = 2.16 MB\n",
            "Total number of images = 100\n"
          ],
          "name": "stdout"
        }
      ]
    },
    {
      "cell_type": "markdown",
      "metadata": {
        "id": "jwp662ENpl28",
        "colab_type": "text"
      },
      "source": [
        "## 3) FG Mask\n",
        "---"
      ]
    },
    {
      "cell_type": "code",
      "metadata": {
        "id": "9QIqsKPJpgFf",
        "colab_type": "code",
        "colab": {
          "base_uri": "https://localhost:8080/",
          "height": 51
        },
        "outputId": "20d43bce-d8fa-4a5a-fc46-ef64939e831d"
      },
      "source": [
        "fg_mask_path = './gdrive/My Drive/EVA4/DepthMaskDataset/data/fg_mask/'\n",
        "\n",
        "fg_mask_size, fg_mask_cnt = find_size_count_images(fg_mask_path)\n",
        "print(f\"Size of FG mask data = {convert_size(fg_mask_size)}\")\n",
        "print(f\"Total number of images = {fg_mask_cnt}\")"
      ],
      "execution_count": 136,
      "outputs": [
        {
          "output_type": "stream",
          "text": [
            "Size of FG mask data = 351.34 KB\n",
            "Total number of images = 100\n"
          ],
          "name": "stdout"
        }
      ]
    },
    {
      "cell_type": "markdown",
      "metadata": {
        "id": "3nu4U23ktam6",
        "colab_type": "text"
      },
      "source": [
        "## 4) FG_BG and Mask\n",
        "---"
      ]
    },
    {
      "cell_type": "code",
      "metadata": {
        "id": "kPOPYnk0rX1E",
        "colab_type": "code",
        "colab": {}
      },
      "source": [
        "from PIL import Image\n",
        "from io import BytesIO\n",
        "\n",
        "def load_zip_images(data, image_files):\n",
        "    loaded_images = []\n",
        "    for file in image_files:\n",
        "        x = np.clip(np.asarray(Image.open(BytesIO(data[ file ])), dtype=float) / 255, 0, 1)\n",
        "        loaded_images.append(x)\n",
        "    return np.stack(loaded_images, axis=0)\n",
        "\n",
        "def loadZipToMem(zip_file):\n",
        "    # Load zip file into memory\n",
        "    print('Loading dataset zip file...', end='')\n",
        "    from zipfile import ZipFile\n",
        "    input_zip = ZipFile(zip_file, 'r')\n",
        "    data = {name: input_zip.read(name) for name in input_zip.namelist()}\n",
        "    input_zip.close()\n",
        "    \n",
        "    return data\n",
        "\n",
        "def generate_fg_bg_mask(data):\n",
        "  custom_data = list((row.split('\\t') for row in (data['data_label.txt']).decode(\"utf-8\").split('\\n') if len(row) > 0))\n",
        "  fg_bg_list = []\n",
        "  fg_bg_mask_list = []\n",
        "  for fg_bg_img_row in custom_data:\n",
        "    fg_bg_list.append(fg_bg_img_row[0])\n",
        "    fg_bg_mask_list.append(fg_bg_img_row[1])\n",
        "  random.shuffle(fg_bg_list)\n",
        "  random.shuffle(fg_bg_mask_list)\n",
        "\n",
        "  return fg_bg_list, fg_bg_mask_list\n"
      ],
      "execution_count": 0,
      "outputs": []
    },
    {
      "cell_type": "code",
      "metadata": {
        "id": "lLYkvNyEIXon",
        "colab_type": "code",
        "colab": {
          "base_uri": "https://localhost:8080/",
          "height": 34
        },
        "outputId": "a7835d28-5b5b-4abb-82fe-8b21037c5f33"
      },
      "source": [
        "path='./gdrive/My Drive/EVA4/DepthMaskDataset/depth_mask_custom_dataset.zip'\n",
        "data = loadZipToMem(path)\n",
        "fg_bg_list, fg_bg_mask_list = generate_fg_bg_mask(data)"
      ],
      "execution_count": 12,
      "outputs": [
        {
          "output_type": "stream",
          "text": [
            "Loading dataset zip file..."
          ],
          "name": "stdout"
        }
      ]
    },
    {
      "cell_type": "code",
      "metadata": {
        "id": "SXGmF8hrf5fc",
        "colab_type": "code",
        "colab": {
          "base_uri": "https://localhost:8080/",
          "height": 34
        },
        "outputId": "e89ca8ff-abad-4e43-a8ac-bb778c94802b"
      },
      "source": [
        "fg_bg_mask = (os.stat(path).st_size)\n",
        "print(f\"Size of FG_BG and its mask compressed file = {convert_size(fg_bg_mask)}\")"
      ],
      "execution_count": 127,
      "outputs": [
        {
          "output_type": "stream",
          "text": [
            "Size of FG_BG and its mask compressed file = 1.49 GB\n"
          ],
          "name": "stdout"
        }
      ]
    },
    {
      "cell_type": "markdown",
      "metadata": {
        "id": "NdYwMIbEcqJK",
        "colab_type": "text"
      },
      "source": [
        "## For FG_BG\n",
        "---"
      ]
    },
    {
      "cell_type": "code",
      "metadata": {
        "id": "32RWKbyVeBzO",
        "colab_type": "code",
        "colab": {
          "base_uri": "https://localhost:8080/",
          "height": 34
        },
        "outputId": "873f1c7e-0465-4da5-83a8-f6474e2f56f9"
      },
      "source": [
        "print(f\"Total number of images = {len(fg_bg_list)}\")"
      ],
      "execution_count": 78,
      "outputs": [
        {
          "output_type": "stream",
          "text": [
            "Total number of images = 400000\n"
          ],
          "name": "stdout"
        }
      ]
    },
    {
      "cell_type": "code",
      "metadata": {
        "id": "ePAiuQEaGa6k",
        "colab_type": "code",
        "colab": {
          "base_uri": "https://localhost:8080/",
          "height": 68
        },
        "outputId": "c6885e74-8fca-4cac-9d93-4b7e59109625"
      },
      "source": [
        "bs = 200*20\n",
        "\n",
        "means, stds = [], []\n",
        "for i in range(0, 100):\n",
        "  print(f\"\\n Batch{i+1} - Images [{bs*i}: {(bs*i)+bs}]\")\n",
        "\n",
        "  mean, std = find_normalization_values(load_zip_images(data, fg_bg_list[bs*i: (bs*i)+bs]), 3)\n",
        "  means.append(mean)\n",
        "  stds.append(std)\n",
        "\n",
        "num_imgs = 100\n",
        "fg_bg_mean = sum(i[0] for i in means)/num_imgs, sum(i[1] for i in means)/num_imgs, sum(i[2] for i in means)/num_imgs\n",
        "fg_bg_std = sum(i[0] for i in stds)/num_imgs, sum(i[1] for i in stds)/num_imgs, sum(i[2] for i in stds)/num_imgs\n",
        "\n",
        "print(\"For FG_BG data:-\")\n",
        "print(f\"Mean is {fg_bg_mean}\")\n",
        "print(f\"Std is {fg_bg_std}\")"
      ],
      "execution_count": 30,
      "outputs": [
        {
          "output_type": "stream",
          "text": [
            "For FG_BG data:-\n",
            "Mean is (1.0, 1.0, 1.0)\n",
            "Std is (0.21974199573317058, 0.228182355952634, 0.24135464023694234)\n"
          ],
          "name": "stdout"
        }
      ]
    },
    {
      "cell_type": "markdown",
      "metadata": {
        "id": "7LP4NpMwHxSO",
        "colab_type": "text"
      },
      "source": [
        "# FG_BG_MASK\n",
        "---"
      ]
    },
    {
      "cell_type": "code",
      "metadata": {
        "id": "aFTpKy3TejOE",
        "colab_type": "code",
        "colab": {
          "base_uri": "https://localhost:8080/",
          "height": 34
        },
        "outputId": "e252c6dc-7c1d-4578-96a1-102ca4705bd0"
      },
      "source": [
        "print(f\"Total number of images = {len(fg_bg_mask_list)}\")"
      ],
      "execution_count": 79,
      "outputs": [
        {
          "output_type": "stream",
          "text": [
            "Total number of images = 400000\n"
          ],
          "name": "stdout"
        }
      ]
    },
    {
      "cell_type": "code",
      "metadata": {
        "id": "MSwhTMbAH188",
        "colab_type": "code",
        "colab": {
          "base_uri": "https://localhost:8080/",
          "height": 68
        },
        "outputId": "3fa0f5a0-fa84-4494-93c4-bd5792570c8a"
      },
      "source": [
        "bs = 200*20\n",
        "\n",
        "mask_means, mask_stds = [], []\n",
        "for i in range(0, 100):\n",
        "  mask_mean, mask_std = find_normalization_values(load_zip_images(data, fg_bg_mask_list[bs*i: (bs*i)+bs]), 1)\n",
        "  mask_means.append(mask_mean)\n",
        "  mask_stds.append(mask_std)\n",
        "\n",
        "num_imgs = 100\n",
        "mask_mean = sum(i[0] for i in mask_means)/num_imgs\n",
        "mask_std = sum(i[0] for i in mask_stds)/num_imgs\n",
        "\n",
        "print(\"For FG_BG_MASK data:-\")\n",
        "print(f\"Mean is {mask_mean}\")\n",
        "print(f\"Std is {mask_std}\")"
      ],
      "execution_count": 24,
      "outputs": [
        {
          "output_type": "stream",
          "text": [
            "For FG_BG_MASK data:-\n",
            "Mean is 0.0\n",
            "Std is 0.3169699513813231\n"
          ],
          "name": "stdout"
        }
      ]
    },
    {
      "cell_type": "markdown",
      "metadata": {
        "id": "R6K4fAo8tjF7",
        "colab_type": "text"
      },
      "source": [
        "## 5) Depth Map\n",
        "---"
      ]
    },
    {
      "cell_type": "code",
      "metadata": {
        "id": "6-Er06gQemmI",
        "colab_type": "code",
        "colab": {
          "base_uri": "https://localhost:8080/",
          "height": 34
        },
        "outputId": "1c2806b7-4266-41ec-f543-4d3ce432c9cc"
      },
      "source": [
        "num_depthmaps = 0\n",
        "for i in range(0, 100):\n",
        "  num_depthmaps += (np.load(f'{depthmap_path}/depthmap_output_batch{i+1}.npz')['output']).shape[0]\n",
        "print(f\"Total number of images = {num_depthmaps}\")"
      ],
      "execution_count": 80,
      "outputs": [
        {
          "output_type": "stream",
          "text": [
            "Total number of images = 400000\n"
          ],
          "name": "stdout"
        }
      ]
    },
    {
      "cell_type": "code",
      "metadata": {
        "id": "pf1RhnAgf3M6",
        "colab_type": "code",
        "colab": {
          "base_uri": "https://localhost:8080/",
          "height": 34
        },
        "outputId": "e06e4324-ef17-4de7-e762-652002e62669"
      },
      "source": [
        "depthmap_size = 0\n",
        "for i in range(0, 100):\n",
        "  depthmap_size += os.stat(f'{depthmap_path}/depthmap_output_batch{i+1}.npz').st_size\n",
        "print(f\"Size of depthmap compressed file = {convert_size(depthmap_size)}\")"
      ],
      "execution_count": 91,
      "outputs": [
        {
          "output_type": "stream",
          "text": [
            "Size of depthmap compressed file = 7.78 GB\n"
          ],
          "name": "stdout"
        }
      ]
    },
    {
      "cell_type": "code",
      "metadata": {
        "id": "cYHzyD13tYso",
        "colab_type": "code",
        "colab": {
          "base_uri": "https://localhost:8080/",
          "height": 68
        },
        "outputId": "d18d5014-0714-4904-c8e9-a211dac71f6d"
      },
      "source": [
        "depthmap_path = './gdrive/My Drive/EVA4/DepthMaskDataset/data/fg_bg_depth'\n",
        "bs = 200*20\n",
        "\n",
        "depthmap_means, depthmap_stds = [], []\n",
        "\n",
        "for i in range(0, 100):\n",
        "  outputs = np.load(f'{depthmap_path}/depthmap_output_batch{i+1}.npz')['output']\n",
        "  depthmap_mean, depthmap_std = find_normalization_values(outputs, 1)\n",
        "  depthmap_means.append(depthmap_mean)\n",
        "  depthmap_stds.append(depthmap_std)\n",
        "\n",
        "num_imgs = 100\n",
        "depthmap_mean = sum(i[0] for i in depthmap_means)/num_imgs\n",
        "depthmap_std = sum(i[0] for i in depthmap_stds)/num_imgs\n",
        "\n",
        "print(\"For Depth map data:-\")\n",
        "print(f\"Mean is {depthmap_mean}\")\n",
        "print(f\"Std is {depthmap_std}\")"
      ],
      "execution_count": 36,
      "outputs": [
        {
          "output_type": "stream",
          "text": [
            "For Depth map data:-\n",
            "Mean is 0.0\n",
            "Std is 0.03913845191709697\n"
          ],
          "name": "stdout"
        }
      ]
    },
    {
      "cell_type": "markdown",
      "metadata": {
        "id": "Aj-LwBo3qNUB",
        "colab_type": "text"
      },
      "source": [
        "# Total Dataset Size\n",
        "---"
      ]
    },
    {
      "cell_type": "code",
      "metadata": {
        "id": "lKlMSKhPqR2J",
        "colab_type": "code",
        "colab": {
          "base_uri": "https://localhost:8080/",
          "height": 34
        },
        "outputId": "6802b31e-a2fd-4fb2-e4fe-918c4737388d"
      },
      "source": [
        "print(f\"Total Dataset Size = {convert_size(bg_size + fg_size + fg_mask_size + fg_bg_mask + depthmap_size)}\")"
      ],
      "execution_count": 138,
      "outputs": [
        {
          "output_type": "stream",
          "text": [
            "Total Dataset Size = 9.27 GB\n"
          ],
          "name": "stdout"
        }
      ]
    }
  ]
}